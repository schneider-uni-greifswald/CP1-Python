{
 "cells": [
  {
   "cell_type": "code",
   "execution_count": 1,
   "metadata": {
    "collapsed": true
   },
   "outputs": [],
   "source": [
    "import numpy as np\n",
    "import scipy.stats\n",
    "import matplotlib.pyplot as plt\n",
    "%matplotlib inline"
   ]
  },
  {
   "cell_type": "markdown",
   "metadata": {},
   "source": [
    "# Least-Squares Linear Regression"
   ]
  },
  {
   "cell_type": "markdown",
   "metadata": {},
   "source": [
    "- fit slope and intercept so that the linear regression fit (here: \"line\") minimizes the sum of the residuals (vertical offsets or distances)\n",
    "\n",
    "<img src=\"images/linear_regression_scheme.png\" width=\"450\" />"
   ]
  },
  {
   "cell_type": "code",
   "execution_count": 2,
   "metadata": {},
   "outputs": [
    {
     "data": {
      "image/png": "[encoded data removed]",
      "text/plain": [
       "<Figure size 432x288 with 1 Axes>"
      ]
     },
     "metadata": {
      "needs_background": "light"
     },
     "output_type": "display_data"
    }
   ],
   "source": [
    "rng = np.random.RandomState(123)\n",
    "mean = [100, 1000]\n",
    "cov = [[1, 0.9], [0.9, 1]]\n",
    "sample = rng.multivariate_normal(mean, cov, size=100)\n",
    "x, y = sample[:, 0], sample[:, 1]\n",
    "\n",
    "plt.scatter(x, y)\n",
    "plt.xlabel('x')\n",
    "plt.ylabel('y')\n",
    "plt.show()"
   ]
  },
  {
   "cell_type": "markdown",
   "metadata": {},
   "source": [
    "- Pearson correlation coefficient (see the [Covariance and Correlation](cov-corr.ipynb) notebook for details)"
   ]
  },
  {
   "cell_type": "code",
   "execution_count": 3,
   "metadata": {},
   "outputs": [
    {
     "data": {
      "text/plain": [
       "array([[1.        , 0.87552229],\n",
       "       [0.87552229, 1.        ]])"
      ]
     },
     "execution_count": 3,
     "metadata": {},
     "output_type": "execute_result"
    }
   ],
   "source": [
    "np.corrcoef(np.vstack([x, y]))"
   ]
  },
  {
   "cell_type": "markdown",
   "metadata": {},
   "source": [
    "### 1. Least-squares linear regression via \"classic statistic\""
   ]
  },
  {
   "cell_type": "markdown",
   "metadata": {},
   "source": [
    "- using \"classic statistics\":\n",
    "\n",
    "$w_1 = \\frac{\\sigma_{x,y}}{\\sigma_{x}^{2}}$\n",
    "\n",
    "$b = \\bar{y} - w_1\\bar{x}$\n",
    "\n",
    "where \n",
    "\n",
    "\n",
    "$\\text{covariance: } \\sigma_{xy} = \\frac{1}{n} \\sum_{i=1}^{n} (x_i - \\bar{x})(y_i - \\bar{y})$\n",
    "\n",
    "$\\text{variance: } \\sigma^{2}_{x} = \\frac{1}{n} \\sum_{i=1}^{n} (x_i - \\bar{x})^2$"
   ]
  },
  {
   "cell_type": "code",
   "execution_count": 4,
   "metadata": {},
   "outputs": [
    {
     "name": "stdout",
     "output_type": "stream",
     "text": [
      "slope: 0.84\n",
      "y-intercept: 915.59\n"
     ]
    }
   ],
   "source": [
    "cov_xy = np.cov(np.vstack((x, y)), ddof=0)[0, 1]\n",
    "var_x = np.var(x, ddof=0)\n",
    "w1 = cov_xy / var_x\n",
    "b = np.mean(y) - w1*np.mean(x)\n",
    "\n",
    "print('slope: %.2f' % w1)\n",
    "print('y-intercept: %.2f' % b)"
   ]
  },
  {
   "cell_type": "markdown",
   "metadata": {},
   "source": [
    "### 2. Least-squares linear regression via linear algebra"
   ]
  },
  {
   "cell_type": "markdown",
   "metadata": {},
   "source": [
    "- closed-form (analytical) solution:\n",
    "\n",
    "$$w = (X^T X)^{-1} X^T y$$"
   ]
  },
  {
   "cell_type": "code",
   "execution_count": 5,
   "metadata": {},
   "outputs": [
    {
     "name": "stdout",
     "output_type": "stream",
     "text": [
      "slope: 0.84\n",
      "y-intercept: 915.59\n"
     ]
    }
   ],
   "source": [
    "X = x[:, np.newaxis]\n",
    "\n",
    "# adding a column vector of \"ones\"\n",
    "Xb = np.hstack((np.ones((X.shape[0], 1)), X))\n",
    "w = np.zeros(X.shape[1])\n",
    "\n",
    "z = np.linalg.inv(np.dot(Xb.T, Xb))\n",
    "w = np.dot(z, np.dot(Xb.T, y))\n",
    "b, w1 = w[0], w[1]\n",
    "print('slope: %.2f' % w1)\n",
    "print('y-intercept: %.2f' % b)"
   ]
  },
  {
   "cell_type": "markdown",
   "metadata": {},
   "source": [
    "### 3. Using a pre-implemented function"
   ]
  },
  {
   "cell_type": "code",
   "execution_count": 6,
   "metadata": {},
   "outputs": [
    {
     "name": "stdout",
     "output_type": "stream",
     "text": [
      "slope: 0.84\n",
      "y-intercept: 915.59\n"
     ]
    }
   ],
   "source": [
    "w = np.polyfit(x, y, deg=1)\n",
    "b, w1 = w[1], w[0]\n",
    "print('slope: %.2f' % w1)\n",
    "print('y-intercept: %.2f' % b)"
   ]
  },
  {
   "cell_type": "markdown",
   "metadata": {},
   "source": [
    "- note that there are many alternative tools (scikit-learn, statsmodels, ...)"
   ]
  },
  {
   "cell_type": "markdown",
   "metadata": {},
   "source": [
    "### Show line fit"
   ]
  },
  {
   "cell_type": "code",
   "execution_count": 7,
   "metadata": {},
   "outputs": [
    {
     "data": {
      "image/png": "[encoded data removed]",
      "text/plain": [
       "<Figure size 432x288 with 1 Axes>"
      ]
     },
     "metadata": {
      "needs_background": "light"
     },
     "output_type": "display_data"
    }
   ],
   "source": [
    "extremes = np.array([np.min(x), np.max(x)])\n",
    "predict = extremes*w1 + b\n",
    "\n",
    "plt.plot(x, y, marker='o', linestyle='')\n",
    "plt.plot(extremes, predict)\n",
    "plt.xlabel('x')\n",
    "plt.ylabel('y')\n",
    "plt.show()"
   ]
  },
  {
   "cell_type": "markdown",
   "metadata": {},
   "source": [
    "### Evaluate"
   ]
  },
  {
   "cell_type": "markdown",
   "metadata": {},
   "source": [
    "#### Mean squared error (MSE)"
   ]
  },
  {
   "cell_type": "markdown",
   "metadata": {},
   "source": [
    "$$MSE = \\frac{1}{n} \\sum_{i=1}^{n} \\big(y_i - \\hat{y_i}\\big)^2$$"
   ]
  },
  {
   "cell_type": "markdown",
   "metadata": {},
   "source": [
    "- note that MSE is scale-dependent"
   ]
  },
  {
   "cell_type": "code",
   "execution_count": 8,
   "metadata": {},
   "outputs": [
    {
     "data": {
      "text/plain": [
       "0.21920128791623272"
      ]
     },
     "execution_count": 8,
     "metadata": {},
     "output_type": "execute_result"
    }
   ],
   "source": [
    "y_predicted = x*w1 + b\n",
    "mse = np.mean((y - y_predicted)**2)\n",
    "mse"
   ]
  },
  {
   "cell_type": "code",
   "execution_count": 9,
   "metadata": {},
   "outputs": [
    {
     "data": {
      "text/plain": [
       "0.4681893718531346"
      ]
     },
     "execution_count": 9,
     "metadata": {},
     "output_type": "execute_result"
    }
   ],
   "source": [
    "rmse = np.sqrt(mse)\n",
    "rmse"
   ]
  },
  {
   "cell_type": "markdown",
   "metadata": {},
   "source": [
    "#### Residuals"
   ]
  },
  {
   "cell_type": "code",
   "execution_count": 10,
   "metadata": {},
   "outputs": [
    {
     "data": {
      "text/plain": [
       "Text(0.5, 0, 'index')"
      ]
     },
     "execution_count": 10,
     "metadata": {},
     "output_type": "execute_result"
    },
    {
     "data": {
      "image/png": "[encoded data removed]",
      "text/plain": [
       "<Figure size 432x288 with 1 Axes>"
      ]
     },
     "metadata": {
      "needs_background": "light"
     },
     "output_type": "display_data"
    }
   ],
   "source": [
    "plt.scatter(np.arange(x.shape[0]), y - y_predicted)\n",
    "plt.ylabel('vertical offset')\n",
    "plt.xlabel('index')"
   ]
  },
  {
   "cell_type": "markdown",
   "metadata": {},
   "source": [
    "#### Coefficient of determination (R^2)"
   ]
  },
  {
   "cell_type": "markdown",
   "metadata": {},
   "source": [
    "- Total sum of squares (variability of the reponse or target variable, proportional to variance):\n",
    "\n",
    "$$SS_{total} = \\sum_{i=1}^{n} \\big( y_i - \\bar{y_i} \\big)^2$$\n",
    "\n",
    "- Residual sum of squares:\n",
    "\n",
    "$$SS_{residual} = \\sum_{i=1}^{n} \\big( \\hat{y_i} - \\bar{y_i} \\big)^2$$\n",
    "\n",
    "- Coefficient of determination\n",
    "\n",
    "$$R^2 = \\frac{SS_{residual}}{SS_{total}}$$"
   ]
  },
  {
   "cell_type": "code",
   "execution_count": 11,
   "metadata": {},
   "outputs": [
    {
     "data": {
      "text/plain": [
       "0.7665392849276278"
      ]
     },
     "execution_count": 11,
     "metadata": {},
     "output_type": "execute_result"
    }
   ],
   "source": [
    "mean_y = np.mean(y)\n",
    "SS_total = np.sum((y - mean_y)**2)\n",
    "SS_residual = np.sum((y_predicted - mean_y)**2)\n",
    "r_squared = SS_residual / SS_total\n",
    "r_squared"
   ]
  },
  {
   "cell_type": "markdown",
   "metadata": {},
   "source": [
    "- usually, the coefficient of determination can be computed by squaring the pearson correlation coefficient:"
   ]
  },
  {
   "cell_type": "code",
   "execution_count": 12,
   "metadata": {},
   "outputs": [
    {
     "data": {
      "text/plain": [
       "0.7665392849276523"
      ]
     },
     "execution_count": 12,
     "metadata": {},
     "output_type": "execute_result"
    }
   ],
   "source": [
    "slope, intercept, r_value, p_value, std_err = scipy.stats.linregress(x, y)\n",
    "r_value**2"
   ]
  },
  {
   "cell_type": "markdown",
   "metadata": {},
   "source": [
    "- note that if the model fits worse than a horizontal line, the coefficient of determination can be negative (so it is not necessarily always recommended to use a squared pearson coefficient to compute $R^2$)"
   ]
  }
 ],
 "metadata": {
  "kernelspec": {
   "display_name": "Python 3",
   "language": "python",
   "name": "python3"
  },
  "language_info": {
   "codemirror_mode": {
    "name": "ipython",
    "version": 3
   },
   "file_extension": ".py",
   "mimetype": "text/x-python",
   "name": "python",
   "nbconvert_exporter": "python",
   "pygments_lexer": "ipython3",
   "version": "3.7.3"
  }
 },
 "nbformat": 4,
 "nbformat_minor": 2
}
