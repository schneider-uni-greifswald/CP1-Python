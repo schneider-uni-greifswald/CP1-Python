{
 "cells": [
  {
   "cell_type": "markdown",
   "metadata": {},
   "source": [
    "# Workflows mit Daten\n",
    "\n",
    "\n",
    "## Daten teilen\n",
    "\n",
    "Verwaltet eure Dateien in einem [Git Repository](https://git-scm.com) zu verwalten. Das ist ein Ordner, in dem Git regelmäßig alle Änderungen der Dateien darin speichert, sodass ein konsistenter Versions-Verlauf entsteht. Über einen Dienst wie [GitHub](https://www.github.com) könnt ihr das Repository jederzeit mit eurem Partner abgleichen, ohne dass Synchronisierungs-Konflikte entstehen können.\n",
    "\n",
    "Git ist die Grundlage weltweiter Softwareentwicklung und wird in der Wissenschaft bereits ebenso viel verwendet. Nutzt also die Gelegenheit, im PAP mit Git und Python zwei der grundlegenden Technologien moderner Wissenschaft zu lernen. Eine Einführung in Git bietet euch [try.github.io](http://try.github.io/). Wenn ihr lieber ohne Kommandozeile arbeitet könnt ihr Git mit der [GitHub Desktop](https://desktop.github.com) App auch mit einer graphischen Oberfläche verwenden.\n",
    "\n",
    "## Formatiert eure Daten konsistent\n",
    "\n",
    "Sinnvoll ist, Spalten durch Tabulatoren zu trennen und in einer Titelzeile die Messgröße und ihre Einheit zu notieren:\n",
    "\n",
    "    t [s] <TAB> x [mm]\n",
    "    0 <TAB> 5.1\n",
    "    1 <TAB> 12.25\n",
    "    2 <TAB> 19.5\n",
    "    3 <TAB> 31.13\n",
    "\n",
    "In den meisten Fällen lesen wir Daten mit [`numpy.loadtxt`](https://docs.scipy.org/doc/numpy/reference/generated/numpy.loadtxt.html) ein. Ein Format wie dieses kann die Funktion ohne Schwierigkeiten lesen, wenn wir mit `skiprows=1` die Titelzeile überspringen:"
   ]
  },
  {
   "cell_type": "code",
   "execution_count": 1,
   "metadata": {},
   "outputs": [],
   "source": [
    "import numpy as np"
   ]
  },
  {
   "cell_type": "code",
   "execution_count": 2,
   "metadata": {},
   "outputs": [
    {
     "data": {
      "text/plain": [
       "array([[ 0.  ,  5.1 ],\n",
       "       [ 1.  , 12.25],\n",
       "       [ 2.  , 19.5 ],\n",
       "       [ 3.  , 31.13]])"
      ]
     },
     "execution_count": 2,
     "metadata": {},
     "output_type": "execute_result"
    }
   ],
   "source": [
    "np.loadtxt('data/formatted_data.txt', skiprows=1)"
   ]
  },
  {
   "cell_type": "markdown",
   "metadata": {},
   "source": [
    "## Lest beliebige Datensätze ein\n",
    "\n",
    "Die `numpy.loadtxt` Funktion ist flexibel genug, um Daten jeglicher Form einlesen zu können. Schaut euch einfach die Struktur eurer Daten an, indem ihr bspw. die `!head` Funktionalität im Jupyter Notebook verwendet:"
   ]
  },
  {
   "cell_type": "code",
   "execution_count": 3,
   "metadata": {},
   "outputs": [
    {
     "name": "stdout",
     "output_type": "stream",
     "text": [
      "t [s] x [mm]\n",
      "\n",
      "0 5,1\n",
      "\n",
      "1 12,25\n",
      "\n",
      "2 19,5\n",
      "\n",
      "3 31,13\n",
      "\n",
      "\n",
      "\n",
      "\n",
      "\n",
      "\n"
     ]
    }
   ],
   "source": [
    "#!head data/comma_separated_data.txt\n",
    "with open('data/comma_separated_data.txt') as f:\n",
    "    for _ in range(10):\n",
    "        print(f.readline())"
   ]
  },
  {
   "cell_type": "markdown",
   "metadata": {},
   "source": [
    "Diese Daten verwenden bspw. ein Komma statt eines Punktes als Dezimaltrennzeichen. Zieht die Dokumentation der `numpy.loadtxt` Funktion zu Rate, um eine Option zu finden, die Daten einzulesen:"
   ]
  },
  {
   "cell_type": "code",
   "execution_count": 4,
   "metadata": {},
   "outputs": [],
   "source": [
    "#np.loadtxt?"
   ]
  },
  {
   "cell_type": "markdown",
   "metadata": {},
   "source": [
    "Dem Argument `converters` der Funktion `numpy.loadtxt` können wir in einem Dictionary für jede Spalte eine Funktion angeben, die einen Wert des Datensatzes beliebig verändern kann. Wir ersetzen also das Komma durch einen Punkt und konvertieren den String zu einem Float:"
   ]
  },
  {
   "cell_type": "code",
   "execution_count": 5,
   "metadata": {},
   "outputs": [
    {
     "data": {
      "text/plain": [
       "array([[ 0.  ,  5.1 ],\n",
       "       [ 1.  , 12.25],\n",
       "       [ 2.  , 19.5 ],\n",
       "       [ 3.  , 31.13]])"
      ]
     },
     "execution_count": 5,
     "metadata": {},
     "output_type": "execute_result"
    }
   ],
   "source": [
    "def comma_decimal_to_float(valstr):\n",
    "    return float(valstr.decode(\"utf-8\").replace(',','.'))\n",
    "\n",
    "np.loadtxt('data/comma_separated_data.txt', skiprows=1, converters={ 1: comma_decimal_to_float })"
   ]
  },
  {
   "cell_type": "markdown",
   "metadata": {},
   "source": [
    "Wenn ihr Daten in einem Format vorliegen habt, das `numpy.loadtxt` nicht direkt einlesen kann, erinnert euch daran, dass euch mit Python die Möglichkeiten einer vollwertigen Programmiersprache zur Verfügung stehen. Durch String-Manipulationen könnt ihr die Daten häufig so weit verändern, dass ihr die Daten weiterverarbeiten könnt."
   ]
  }
 ],
 "metadata": {
  "kernelspec": {
   "display_name": "Python 3",
   "language": "python",
   "name": "python3"
  },
  "language_info": {
   "codemirror_mode": {
    "name": "ipython",
    "version": 3
   },
   "file_extension": ".py",
   "mimetype": "text/x-python",
   "name": "python",
   "nbconvert_exporter": "python",
   "pygments_lexer": "ipython3",
   "version": "3.7.3"
  }
 },
 "nbformat": 4,
 "nbformat_minor": 2
}
