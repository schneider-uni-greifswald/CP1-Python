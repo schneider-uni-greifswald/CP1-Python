{
 "cells": [
  {
   "cell_type": "markdown",
   "metadata": {},
   "source": [
    "#Import von Messdaten in Listen\n"
   ]
  },
  {
   "cell_type": "code",
   "execution_count": 1,
   "metadata": {
    "scrolled": true
   },
   "outputs": [
    {
     "name": "stdout",
     "output_type": "stream",
     "text": [
      "Nummer\tZeit[s]\tx[e-6m]\ty[e-6m]\n",
      "\n",
      "1\t2\t48,646\t60,636\n",
      "\n",
      "2\t3\t48,921\t62,104\n",
      "\n",
      "3\t4\t48,096\t62,104\n",
      "\n",
      "4\t5\t47,086\t62,746\n",
      "\n",
      "  5\t6\t49,013\t63,021\n",
      "\n",
      "6\t7\t50,298\t62,838\n",
      "\n",
      "7\t8\t51,215\t62,654\n",
      "\n",
      "8\t9\t50,389\t61,645\n",
      "\n",
      "9\t10\t50,389\t60,544\n",
      "\n",
      "10\t11\t48,279\t60,361\n",
      "\n"
     ]
    }
   ],
   "source": [
    "#Textdatei anzeigen\n",
    "f = open('data/brown1.dat', 'r') #Hier der Pfad zu Euren Daten eintragen\n",
    "for line in f:\n",
    "    print(line)"
   ]
  },
  {
   "cell_type": "markdown",
   "metadata": {},
   "source": [
    "####Dezimaltrennzeichen in Punkte aendern:"
   ]
  },
  {
   "cell_type": "code",
   "execution_count": 2,
   "metadata": {},
   "outputs": [
    {
     "name": "stdout",
     "output_type": "stream",
     "text": [
      "Nummer\tZeit[s]\tx[e-6m]\ty[e-6m]\n",
      "\n",
      "1\t2\t48.646\t60.636\n",
      "\n",
      "2\t3\t48.921\t62.104\n",
      "\n",
      "3\t4\t48.096\t62.104\n",
      "\n",
      "4\t5\t47.086\t62.746\n",
      "\n",
      "  5\t6\t49.013\t63.021\n",
      "\n",
      "6\t7\t50.298\t62.838\n",
      "\n",
      "7\t8\t51.215\t62.654\n",
      "\n",
      "8\t9\t50.389\t61.645\n",
      "\n",
      "9\t10\t50.389\t60.544\n",
      "\n",
      "10\t11\t48.279\t60.361\n",
      "\n"
     ]
    }
   ],
   "source": [
    "f = open('data/brown1.dat', 'r')\n",
    "for line in f:\n",
    "    line=line.replace(\",\", \".\") #Komma durch Punkt ersetzen\n",
    "    print(line)"
   ]
  },
  {
   "cell_type": "markdown",
   "metadata": {},
   "source": [
    "####Whitespaces am Anfang und am Ende einer Zeile entfernen"
   ]
  },
  {
   "cell_type": "code",
   "execution_count": 3,
   "metadata": {},
   "outputs": [
    {
     "name": "stdout",
     "output_type": "stream",
     "text": [
      "Nummer\tZeit[s]\tx[e-6m]\ty[e-6m]\n",
      "1\t2\t48.646\t60.636\n",
      "2\t3\t48.921\t62.104\n",
      "3\t4\t48.096\t62.104\n",
      "4\t5\t47.086\t62.746\n",
      "5\t6\t49.013\t63.021\n",
      "6\t7\t50.298\t62.838\n",
      "7\t8\t51.215\t62.654\n",
      "8\t9\t50.389\t61.645\n",
      "9\t10\t50.389\t60.544\n",
      "10\t11\t48.279\t60.361\n"
     ]
    }
   ],
   "source": [
    "f = open('data/brown1.dat', 'r')\n",
    "for line in f:\n",
    "    line=line.replace(\",\", \".\") #Komma durch Punkt ersetzen\n",
    "    line=line.strip()           #Whitespaces am Anfang und Ende einer Zeile entfernen\n",
    "    print(line)\n"
   ]
  },
  {
   "cell_type": "markdown",
   "metadata": {},
   "source": [
    "####Header (erste Zeile) entfernen und die Spalten in Listen eintragen"
   ]
  },
  {
   "cell_type": "code",
   "execution_count": 4,
   "metadata": {},
   "outputs": [
    {
     "name": "stdout",
     "output_type": "stream",
     "text": [
      "[1.0, 2.0, 3.0, 4.0, 5.0, 6.0, 7.0, 8.0, 9.0, 10.0]\n",
      "[2.0, 3.0, 4.0, 5.0, 6.0, 7.0, 8.0, 9.0, 10.0, 11.0]\n",
      "[48.646, 48.921, 48.096, 47.086, 49.013, 50.298, 51.215, 50.389, 50.389, 48.279]\n",
      "[60.636, 62.104, 62.104, 62.746, 63.021, 62.838, 62.654, 61.645, 60.544, 60.361]\n"
     ]
    }
   ],
   "source": [
    "spalte1=[]\n",
    "spalte2=[]\n",
    "spalte3=[]\n",
    "spalte4=[]\n",
    "\n",
    "f = open('data/brown1.dat', 'r')\n",
    "header = f.readline()                #erste Zeile in den String \"header\" eintragen\n",
    "for line in f:\n",
    "    line=line.replace(\",\", \".\")      #Komma durch Punkt ersetzen\n",
    "    line=line.strip()                #Whitespaces am Anfang und Ende einer Zeile entfernen\n",
    "    zeile=line.split()               #Zeileneinträge in die Liste \"zeile\" schreiben   \n",
    "    spalte1.append(float(zeile[0]))  #Spalten in Listen eintragen\n",
    "    spalte2.append(float(zeile[1]))\n",
    "    spalte3.append(float(zeile[2]))\n",
    "    spalte4.append(float(zeile[3]))\n",
    "    \n",
    "print(spalte1)\n",
    "print(spalte2)\n",
    "print(spalte3)\n",
    "print(spalte4)"
   ]
  }
 ],
 "metadata": {
  "kernelspec": {
   "display_name": "Python 3",
   "language": "python",
   "name": "python3"
  },
  "language_info": {
   "codemirror_mode": {
    "name": "ipython",
    "version": 3
   },
   "file_extension": ".py",
   "mimetype": "text/x-python",
   "name": "python",
   "nbconvert_exporter": "python",
   "pygments_lexer": "ipython3",
   "version": "3.7.3"
  }
 },
 "nbformat": 4,
 "nbformat_minor": 2
}
