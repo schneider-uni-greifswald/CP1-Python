{
 "cells": [
  {
   "cell_type": "markdown",
   "metadata": {},
   "source": [
    "#Import von Messdaten in NumPy Arrays\n"
   ]
  },
  {
   "cell_type": "code",
   "execution_count": 8,
   "metadata": {},
   "outputs": [],
   "source": [
    "import numpy as np"
   ]
  },
  {
   "cell_type": "markdown",
   "metadata": {},
   "source": [
    "#### Einlesen von Daten mit genfromtxt()"
   ]
  },
  {
   "cell_type": "code",
   "execution_count": 9,
   "metadata": {},
   "outputs": [
    {
     "data": {
      "text/plain": [
       "array([[   nan,    nan,    nan,    nan],\n",
       "       [ 1.   ,  2.   , 48.646, 60.636],\n",
       "       [ 2.   ,  3.   , 48.921, 62.104],\n",
       "       [ 3.   ,  4.   , 48.096, 62.104],\n",
       "       [ 4.   ,  5.   , 47.086, 62.746],\n",
       "       [ 5.   ,  6.   , 49.013, 63.021],\n",
       "       [ 6.   ,  7.   , 50.298, 62.838],\n",
       "       [ 7.   ,  8.   , 51.215, 62.654],\n",
       "       [ 8.   ,  9.   , 50.389, 61.645],\n",
       "       [ 9.   , 10.   , 50.389, 60.544],\n",
       "       [10.   , 11.   , 48.279, 60.361]])"
      ]
     },
     "execution_count": 9,
     "metadata": {},
     "output_type": "execute_result"
    }
   ],
   "source": [
    "np.genfromtxt('data/brown2.dat')  #Hier der Pfad zu Euren Daten eintragen"
   ]
  },
  {
   "cell_type": "markdown",
   "metadata": {},
   "source": [
    "####Die erste Zeile wurde nicht als Zahl erkannt (nan=not a number).  Wir lesen die Daten mit dtype='str' als String ein."
   ]
  },
  {
   "cell_type": "code",
   "execution_count": 10,
   "metadata": {},
   "outputs": [
    {
     "data": {
      "text/plain": [
       "array([['Nummer', 'Zeit[s]', 'x[e-6m]', 'y[e-6m]'],\n",
       "       ['1', '2', '48.646', '60.636'],\n",
       "       ['2', '3', '48.921', '62.104'],\n",
       "       ['3', '4', '48.096', '62.104'],\n",
       "       ['4', '5', '47.086', '62.746'],\n",
       "       ['5', '6', '49.013', '63.021'],\n",
       "       ['6', '7', '50.298', '62.838'],\n",
       "       ['7', '8', '51.215', '62.654'],\n",
       "       ['8', '9', '50.389', '61.645'],\n",
       "       ['9', '10', '50.389', '60.544'],\n",
       "       ['10', '11', '48.279', '60.361']], dtype='<U7')"
      ]
     },
     "execution_count": 10,
     "metadata": {},
     "output_type": "execute_result"
    }
   ],
   "source": [
    "np.genfromtxt('data/brown2.dat',dtype='str') "
   ]
  },
  {
   "cell_type": "markdown",
   "metadata": {},
   "source": [
    "#### Die erste Zeile (Header) wird mit skip_header=1 übersprungen "
   ]
  },
  {
   "cell_type": "code",
   "execution_count": 11,
   "metadata": {},
   "outputs": [
    {
     "data": {
      "text/plain": [
       "array([[ 1.   ,  2.   , 48.646, 60.636],\n",
       "       [ 2.   ,  3.   , 48.921, 62.104],\n",
       "       [ 3.   ,  4.   , 48.096, 62.104],\n",
       "       [ 4.   ,  5.   , 47.086, 62.746],\n",
       "       [ 5.   ,  6.   , 49.013, 63.021],\n",
       "       [ 6.   ,  7.   , 50.298, 62.838],\n",
       "       [ 7.   ,  8.   , 51.215, 62.654],\n",
       "       [ 8.   ,  9.   , 50.389, 61.645],\n",
       "       [ 9.   , 10.   , 50.389, 60.544],\n",
       "       [10.   , 11.   , 48.279, 60.361]])"
      ]
     },
     "execution_count": 11,
     "metadata": {},
     "output_type": "execute_result"
    }
   ],
   "source": [
    "np.genfromtxt('data/brown2.dat',skip_header=1) "
   ]
  },
  {
   "cell_type": "markdown",
   "metadata": {},
   "source": [
    "####Spalten in Arrays einlesen mit usecols"
   ]
  },
  {
   "cell_type": "code",
   "execution_count": 12,
   "metadata": {},
   "outputs": [
    {
     "name": "stdout",
     "output_type": "stream",
     "text": [
      "[48.646 48.921 48.096 47.086 49.013 50.298 51.215 50.389 50.389 48.279]\n"
     ]
    }
   ],
   "source": [
    "spalte1=np.genfromtxt('data/brown2.dat',skip_header=1,usecols=(0))\n",
    "spalte2=np.genfromtxt('data/brown2.dat',skip_header=1,usecols=(1))\n",
    "spalte3=np.genfromtxt('data/brown2.dat',skip_header=1,usecols=(2))\n",
    "spalte4=np.genfromtxt('data/brown2.dat',skip_header=1,usecols=(3))\n",
    "#Die 3. Spalte:\n",
    "print(spalte3)"
   ]
  },
  {
   "cell_type": "markdown",
   "metadata": {},
   "source": [
    "####Spalten in Arrays einlesen durch Slicing"
   ]
  },
  {
   "cell_type": "code",
   "execution_count": 13,
   "metadata": {
    "scrolled": true
   },
   "outputs": [
    {
     "name": "stdout",
     "output_type": "stream",
     "text": [
      "[[48.646]\n",
      " [48.921]\n",
      " [48.096]\n",
      " [47.086]\n",
      " [49.013]\n",
      " [50.298]\n",
      " [51.215]\n",
      " [50.389]\n",
      " [50.389]\n",
      " [48.279]]\n"
     ]
    }
   ],
   "source": [
    "#Die 3. Spalte:\n",
    "spalte3=np.genfromtxt('data/brown2.dat',skip_header=1)[:,2:3]\n",
    "print(spalte3)"
   ]
  },
  {
   "cell_type": "markdown",
   "metadata": {},
   "source": [
    "#### Die erste Zeile:"
   ]
  },
  {
   "cell_type": "code",
   "execution_count": 14,
   "metadata": {},
   "outputs": [
    {
     "name": "stdout",
     "output_type": "stream",
     "text": [
      "[[ 1.     2.    48.646 60.636]]\n"
     ]
    }
   ],
   "source": [
    "zeile1=np.genfromtxt('data/brown2.dat',skip_header=1)[0:1]\n",
    "print(zeile1)"
   ]
  }
 ],
 "metadata": {
  "kernelspec": {
   "display_name": "Python 3",
   "language": "python",
   "name": "python3"
  },
  "language_info": {
   "codemirror_mode": {
    "name": "ipython",
    "version": 3
   },
   "file_extension": ".py",
   "mimetype": "text/x-python",
   "name": "python",
   "nbconvert_exporter": "python",
   "pygments_lexer": "ipython3",
   "version": "3.7.3"
  }
 },
 "nbformat": 4,
 "nbformat_minor": 2
}
